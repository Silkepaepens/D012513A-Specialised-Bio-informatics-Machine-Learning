{
  "cells": [
    {
      "cell_type": "markdown",
      "metadata": {
        "id": "view-in-github",
        "colab_type": "text"
      },
      "source": [
        "<a href=\"https://colab.research.google.com/github/Silkepaepens/D012513A-Specialised-Bio-informatics-Machine-Learning/blob/main/scikit-learn-example/example_scikit-learn.ipynb\" target=\"_parent\"><img src=\"https://colab.research.google.com/assets/colab-badge.svg\" alt=\"Open In Colab\"/></a>"
      ]
    },
    {
      "cell_type": "markdown",
      "id": "2ddac3d5",
      "metadata": {
        "id": "2ddac3d5"
      },
      "source": [
        "# Dataset\n",
        "\n",
        "#### Breast cancer wisconsin (diagnostic) dataset\n",
        "\n",
        "Number of Instances: 569\n",
        "\n",
        "Number of Attributes: 30 numeric, predictive attributes and the class\n",
        "\n",
        "Attribute Information:\n",
        "\n",
        "        - radius (mean of distances from center to points on the perimeter)\n",
        "        - texture (standard deviation of gray-scale values)\n",
        "        - perimeter\n",
        "        - area\n",
        "        - smoothness (local variation in radius lengths)\n",
        "        - compactness (perimeter^2 / area - 1.0)\n",
        "        - concavity (severity of concave portions of the contour)\n",
        "        - concave points (number of concave portions of the contour)\n",
        "        - symmetry\n",
        "        - fractal dimension (\"coastline approximation\" - 1)\n",
        "\n",
        "        The mean, standard error, and \"worst\" or largest (mean of the three\n",
        "        worst/largest values) of these features were computed for each image,\n",
        "        resulting in 30 features.  For instance, field 0 is Mean Radius, field\n",
        "        10 is Radius SE, field 20 is Worst Radius.\n",
        "\n",
        "        - class:\n",
        "                - WDBC-Malignant\n",
        "                - WDBC-Benign\n",
        "\n",
        "    \n",
        "Class Distribution: 212 - Malignant, 357 - Benign\n",
        "\n",
        "Creator:  Dr. William H. Wolberg, W. Nick Street, Olvi L. Mangasarian\n",
        "\n",
        "Donor: Nick Street\n",
        "\n",
        "Date: November, 1995\n",
        "\n",
        "This is a copy of UCI ML Breast Cancer Wisconsin (Diagnostic) datasets.\n",
        "https://goo.gl/U2Uwz2\n",
        "\n",
        "Features are computed from a digitized image of a fine needle\n",
        "aspirate (FNA) of a breast mass.  They describe\n",
        "characteristics of the cell nuclei present in the image.\n",
        "\n",
        "Separating plane described above was obtained using\n",
        "Multisurface Method-Tree (MSM-T) [K. P. Bennett, \"Decision Tree\n",
        "Construction Via Linear Programming.\" Proceedings of the 4th\n",
        "Midwest Artificial Intelligence and Cognitive Science Society,\n",
        "pp. 97-101, 1992], a classification method which uses linear\n",
        "programming to construct a decision tree.  Relevant features\n",
        "were selected using an exhaustive search in the space of 1-4\n",
        "features and 1-3 separating planes.\n",
        "\n",
        "The actual linear program used to obtain the separating plane\n",
        "in the 3-dimensional space is that described in:\n",
        "[K. P. Bennett and O. L. Mangasarian: \"Robust Linear\n",
        "Programming Discrimination of Two Linearly Inseparable Sets\",\n",
        "Optimization Methods and Software 1, 1992, 23-34].\n",
        "\n",
        "References\n",
        "\n",
        "   - W.N. Street, W.H. Wolberg and O.L. Mangasarian. Nuclear feature extraction \n",
        "     for breast tumor diagnosis. IS&T/SPIE 1993 International Symposium on \n",
        "     Electronic Imaging: Science and Technology, volume 1905, pages 861-870,\n",
        "     San Jose, CA, 1993.\n",
        "   - O.L. Mangasarian, W.N. Street and W.H. Wolberg. Breast cancer diagnosis and \n",
        "     prognosis via linear programming. Operations Research, 43(4), pages 570-577, \n",
        "     July-August 1995.\n",
        "   - W.H. Wolberg, W.N. Street, and O.L. Mangasarian. Machine learning techniques\n",
        "     to diagnose breast cancer from fine-needle aspirates. Cancer Letters 77 (1994) \n",
        "     163-171."
      ]
    },
    {
      "cell_type": "markdown",
      "id": "90417a19",
      "metadata": {
        "id": "90417a19"
      },
      "source": [
        "# Loading data"
      ]
    },
    {
      "cell_type": "code",
      "execution_count": null,
      "id": "1f064045",
      "metadata": {
        "id": "1f064045"
      },
      "outputs": [],
      "source": [
        "import pandas as pd\n",
        "\n",
        "data = pd.read_csv(\"https://raw.githubusercontent.com/sdgroeve/D012513A-Specialised-Bio-informatics-Machine-Learning/main/scikit-learn-example/breast_cancer_dataset.csv\")\n",
        "#data = pd.read_csv(\"breast_cancer_dataset.csv\")\n",
        "bhjsvfhgvzghvcfgjhhahahhaah\n",
        "\n",
        "data"
      ]
    },
    {
      "cell_type": "markdown",
      "id": "a230aa49",
      "metadata": {
        "id": "a230aa49"
      },
      "source": [
        "# The features"
      ]
    },
    {
      "cell_type": "code",
      "execution_count": null,
      "id": "6e0eca82",
      "metadata": {
        "id": "6e0eca82"
      },
      "outputs": [],
      "source": [
        "X = data.iloc[:,:-1]\n",
        "X"
      ]
    },
    {
      "cell_type": "code",
      "execution_count": null,
      "id": "22d322db",
      "metadata": {
        "id": "22d322db"
      },
      "outputs": [],
      "source": [
        "X.describe().transpose()"
      ]
    },
    {
      "cell_type": "code",
      "execution_count": null,
      "id": "e96f32d4",
      "metadata": {
        "id": "e96f32d4"
      },
      "outputs": [],
      "source": [
        "from sklearn.preprocessing import StandardScaler\n",
        "\n",
        "X = pd.DataFrame(StandardScaler().fit_transform(X),columns=X.columns)"
      ]
    },
    {
      "cell_type": "code",
      "execution_count": null,
      "id": "56938abb",
      "metadata": {
        "id": "56938abb"
      },
      "outputs": [],
      "source": [
        "X.describe().transpose()"
      ]
    },
    {
      "cell_type": "markdown",
      "id": "1e4afb07",
      "metadata": {
        "id": "1e4afb07"
      },
      "source": [
        "# The label"
      ]
    },
    {
      "cell_type": "code",
      "execution_count": null,
      "id": "796270f2",
      "metadata": {
        "id": "796270f2"
      },
      "outputs": [],
      "source": [
        "y = data.iloc[:,-1]\n",
        "y"
      ]
    },
    {
      "cell_type": "markdown",
      "id": "0c952b9e",
      "metadata": {
        "id": "0c952b9e"
      },
      "source": [
        "# Train-test split"
      ]
    },
    {
      "cell_type": "code",
      "execution_count": null,
      "id": "b0069af4",
      "metadata": {
        "id": "b0069af4"
      },
      "outputs": [],
      "source": [
        "from sklearn.model_selection import train_test_split\n",
        "\n",
        "X_train, X_test, y_train, y_test = train_test_split(X, y, test_size=0.2)"
      ]
    },
    {
      "cell_type": "markdown",
      "id": "f3a57b18",
      "metadata": {
        "id": "f3a57b18"
      },
      "source": [
        "# Creating the model"
      ]
    },
    {
      "cell_type": "code",
      "execution_count": null,
      "id": "1eca074b",
      "metadata": {
        "id": "1eca074b"
      },
      "outputs": [],
      "source": [
        "from sklearn.linear_model import LogisticRegression\n",
        "\n",
        "model = LogisticRegression()"
      ]
    },
    {
      "cell_type": "markdown",
      "id": "5e8d4817",
      "metadata": {
        "id": "5e8d4817"
      },
      "source": [
        "# Model fitting"
      ]
    },
    {
      "cell_type": "code",
      "execution_count": null,
      "id": "f1be38f7",
      "metadata": {
        "id": "f1be38f7"
      },
      "outputs": [],
      "source": [
        "model.fit(X_train,y_train)"
      ]
    },
    {
      "cell_type": "markdown",
      "id": "f31dadca",
      "metadata": {
        "id": "f31dadca"
      },
      "source": [
        "# Computing predictions"
      ]
    },
    {
      "cell_type": "code",
      "execution_count": null,
      "id": "04ff37ec",
      "metadata": {
        "id": "04ff37ec"
      },
      "outputs": [],
      "source": [
        "predictions = model.predict(X_test)\n",
        "\n",
        "predictions"
      ]
    },
    {
      "cell_type": "markdown",
      "id": "e1183838",
      "metadata": {
        "id": "e1183838"
      },
      "source": [
        "# Evaluate the predictions"
      ]
    },
    {
      "cell_type": "code",
      "execution_count": null,
      "id": "940d2eba",
      "metadata": {
        "id": "940d2eba"
      },
      "outputs": [],
      "source": [
        "from sklearn.metrics import confusion_matrix\n",
        "\n",
        "cm = confusion_matrix(y_test, predictions)\n",
        "\n",
        "cm"
      ]
    },
    {
      "cell_type": "code",
      "execution_count": null,
      "id": "fe3a1cab",
      "metadata": {
        "id": "fe3a1cab"
      },
      "outputs": [],
      "source": [
        "from sklearn.metrics import ConfusionMatrixDisplay\n",
        "\n",
        "ConfusionMatrixDisplay(confusion_matrix=cm, display_labels = model.classes_).plot()"
      ]
    },
    {
      "cell_type": "markdown",
      "id": "b7232e6b",
      "metadata": {
        "id": "b7232e6b"
      },
      "source": [
        "# Feature extraction: t-SNE"
      ]
    },
    {
      "cell_type": "code",
      "execution_count": null,
      "id": "f3522f07",
      "metadata": {
        "id": "f3522f07"
      },
      "outputs": [],
      "source": [
        "from sklearn.manifold import TSNE\n",
        "\n",
        "prj_tsne = TSNE(n_components=2, learning_rate='auto', init='random', perplexity=10)\n",
        "\n",
        "X_embedded = prj_tsne.fit_transform(X)"
      ]
    },
    {
      "cell_type": "code",
      "execution_count": null,
      "id": "d34ecae8",
      "metadata": {
        "id": "d34ecae8"
      },
      "outputs": [],
      "source": [
        "X_embedded"
      ]
    },
    {
      "cell_type": "code",
      "execution_count": null,
      "id": "51c70a6d",
      "metadata": {
        "id": "51c70a6d"
      },
      "outputs": [],
      "source": [
        "tsne_result = pd.DataFrame(X_embedded, columns=[\"t-SNE_1\",\"t-SNE_2\"])\n",
        "tsne_result[\"label\"] = y\n",
        "tsne_result"
      ]
    },
    {
      "cell_type": "code",
      "execution_count": null,
      "id": "ae803ea0",
      "metadata": {
        "id": "ae803ea0"
      },
      "outputs": [],
      "source": [
        "import matplotlib.pyplot as plt\n",
        "import seaborn as sns\n",
        "\n",
        "sns.scatterplot(x=\"t-SNE_1\",y=\"t-SNE_2\",hue=\"label\",data=tsne_result)"
      ]
    },
    {
      "cell_type": "markdown",
      "id": "e42dfe54",
      "metadata": {
        "id": "e42dfe54"
      },
      "source": [
        "# K-means clustering of feature vectors\n",
        "\n",
        "## k = 2 clusters"
      ]
    },
    {
      "cell_type": "code",
      "execution_count": null,
      "id": "d4a0b29a",
      "metadata": {
        "id": "d4a0b29a"
      },
      "outputs": [],
      "source": [
        "from sklearn.cluster import KMeans\n",
        "\n",
        "cls_kmns = KMeans(n_clusters=2, init='k-means++')"
      ]
    },
    {
      "cell_type": "code",
      "execution_count": null,
      "id": "7e199361",
      "metadata": {
        "id": "7e199361"
      },
      "outputs": [],
      "source": [
        "kmeans_result = cls_kmns.fit_predict(X)\n",
        "\n",
        "kmeans_result"
      ]
    },
    {
      "cell_type": "code",
      "execution_count": null,
      "id": "e00c7862",
      "metadata": {
        "id": "e00c7862"
      },
      "outputs": [],
      "source": [
        "tsne_result[\"kmeans_full\"] = kmeans_result\n",
        "\n",
        "tsne_result"
      ]
    },
    {
      "cell_type": "code",
      "execution_count": null,
      "id": "fe97e1e4",
      "metadata": {
        "id": "fe97e1e4"
      },
      "outputs": [],
      "source": [
        "fig, axes = plt.subplots(1, 2, figsize=(12,6))\n",
        "axes[0] = sns.scatterplot(x=\"t-SNE_1\",y=\"t-SNE_2\",hue=\"label\",data=tsne_result,ax=axes[0])\n",
        "axes[0].set_title(\"true label\")\n",
        "axes[1] = sns.scatterplot(x=\"t-SNE_1\",y=\"t-SNE_2\",hue=\"kmeans_full\",data=tsne_result,ax=axes[1])\n",
        "axes[1].set_title(\"kmeans_full\")\n",
        "plt.show()"
      ]
    },
    {
      "cell_type": "markdown",
      "id": "f861f881",
      "metadata": {
        "id": "f861f881"
      },
      "source": [
        "## k = 3 clusters"
      ]
    },
    {
      "cell_type": "code",
      "execution_count": null,
      "id": "12e5c36a",
      "metadata": {
        "id": "12e5c36a"
      },
      "outputs": [],
      "source": [
        "cls_kmns = KMeans(n_clusters=3, init='k-means++')\n",
        "\n",
        "kmeans_result = cls_kmns.fit_predict(X)\n",
        "\n",
        "tsne_result[\"kmeans_full_3\"] = kmeans_result\n",
        "\n",
        "fig, axes = plt.subplots(1, 2, figsize=(12,6))\n",
        "axes[0] = sns.scatterplot(x=\"t-SNE_1\",y=\"t-SNE_2\",data=tsne_result,ax=axes[0])\n",
        "axes[0].set_title(\"true label\")\n",
        "axes[1] = sns.scatterplot(x=\"t-SNE_1\",y=\"t-SNE_2\",hue=\"kmeans_full_3\",data=tsne_result,ax=axes[1])\n",
        "axes[1].set_title(\"kmeans_full_3\")\n",
        "plt.show()"
      ]
    },
    {
      "cell_type": "markdown",
      "id": "821ff294",
      "metadata": {
        "id": "821ff294"
      },
      "source": [
        "# K-means clustering of embedding\n",
        "\n",
        "## k = 2 clusters"
      ]
    },
    {
      "cell_type": "code",
      "execution_count": null,
      "id": "3709c87e",
      "metadata": {
        "id": "3709c87e"
      },
      "outputs": [],
      "source": [
        "cls_kmns = KMeans(n_clusters=2, init='k-means++')\n",
        "\n",
        "kmeans_result = cls_kmns.fit_predict(X_embedded)"
      ]
    },
    {
      "cell_type": "code",
      "execution_count": null,
      "id": "67f8c6e2",
      "metadata": {
        "id": "67f8c6e2"
      },
      "outputs": [],
      "source": [
        "tsne_result[\"kmeans_embedded\"] = kmeans_result\n",
        "\n",
        "tsne_result"
      ]
    },
    {
      "cell_type": "code",
      "execution_count": null,
      "id": "a4b6e4f1",
      "metadata": {
        "id": "a4b6e4f1"
      },
      "outputs": [],
      "source": [
        "fig, axes = plt.subplots(1, 2, figsize=(12,6))\n",
        "axes[0] = sns.scatterplot(x=\"t-SNE_1\",y=\"t-SNE_2\",hue=\"label\",data=tsne_result,ax=axes[0])\n",
        "axes[0].set_title(\"true label\")\n",
        "axes[1] = sns.scatterplot(x=\"t-SNE_1\",y=\"t-SNE_2\",hue=\"kmeans_embedded\",data=tsne_result,ax=axes[1])\n",
        "axes[1].set_title(\"kmeans_embedded\")\n",
        "plt.show()"
      ]
    },
    {
      "cell_type": "markdown",
      "id": "8b32186c",
      "metadata": {
        "id": "8b32186c"
      },
      "source": [
        "## k = 3 clusters"
      ]
    },
    {
      "cell_type": "code",
      "execution_count": null,
      "id": "35d00df1",
      "metadata": {
        "id": "35d00df1"
      },
      "outputs": [],
      "source": [
        "cls_kmns = KMeans(n_clusters=3, init='k-means++')\n",
        "\n",
        "kmeans_result = cls_kmns.fit_predict(X_embedded)\n",
        "\n",
        "tsne_result[\"kmeans_embedded_3\"] = kmeans_result\n",
        "\n",
        "fig, axes = plt.subplots(1, 2, figsize=(12,6))\n",
        "axes[0] = sns.scatterplot(x=\"t-SNE_1\",y=\"t-SNE_2\",data=tsne_result,ax=axes[0])\n",
        "axes[0].set_title(\"true label\")\n",
        "axes[1] = sns.scatterplot(x=\"t-SNE_1\",y=\"t-SNE_2\",hue=\"kmeans_embedded_3\",data=tsne_result,ax=axes[1])\n",
        "axes[1].set_title(\"kmeans_full_3\")\n",
        "plt.show()"
      ]
    }
  ],
  "metadata": {
    "colab": {
      "provenance": [],
      "include_colab_link": true
    },
    "kernelspec": {
      "display_name": "Python 3 (ipykernel)",
      "language": "python",
      "name": "python3"
    },
    "language_info": {
      "codemirror_mode": {
        "name": "ipython",
        "version": 3
      },
      "file_extension": ".py",
      "mimetype": "text/x-python",
      "name": "python",
      "nbconvert_exporter": "python",
      "pygments_lexer": "ipython3",
      "version": "3.9.13"
    }
  },
  "nbformat": 4,
  "nbformat_minor": 5
}